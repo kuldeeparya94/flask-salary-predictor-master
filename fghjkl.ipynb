{
 "cells": [
  {
   "cell_type": "code",
   "execution_count": 26,
   "metadata": {},
   "outputs": [
    {
     "name": "stdout",
     "output_type": "stream",
     "text": [
      "<function greeting at 0x000001EB24F27400>\n"
     ]
    }
   ],
   "source": [
    "def shout(text):\n",
    "    return text.upper()\n",
    "\n",
    "def whisper(text):\n",
    "    return text.lower()\n",
    "def greet(func):\n",
    "    greeting=func(\"hi how good morning!\")\n",
    "print(greeting) \n",
    "\n",
    "greet(shout)\n",
    "greet(whisper)"
   ]
  },
  {
   "cell_type": "code",
   "execution_count": 32,
   "metadata": {},
   "outputs": [
    {
     "name": "stdout",
     "output_type": "stream",
     "text": [
      "<function greeting at 0x000001EB24F27400>\n"
     ]
    }
   ],
   "source": [
    "# Python program to illustrate functions \n",
    "# can be passed as arguments to other functions \n",
    "def shout(text):\n",
    "    return text.upper() \n",
    "\n",
    "def whisper(text):\n",
    "    return text.lower() \n",
    "\n",
    "def greet(func):\n",
    "    greeting = func(\"Hi, I am created by a function passed as an argument.\") \n",
    "print(greeting) \n",
    "\n",
    "greet(shout)\n",
    "greet(whisper) \n"
   ]
  },
  {
   "cell_type": "code",
   "execution_count": 34,
   "metadata": {},
   "outputs": [
    {
     "name": "stdout",
     "output_type": "stream",
     "text": [
      "geeksforgeeks\n",
      "200\n"
     ]
    }
   ],
   "source": [
    "# A Python program to return multiple \n",
    "# values from a method using class \n",
    "class Test: \n",
    "\tdef __init__(self): \n",
    "\t\tself.str = \"geeksforgeeks\"\n",
    "\t\tself.x = 200\n",
    "\n",
    "# This function returns an object of Test \n",
    "def fun(): \n",
    "\treturn Test() \n",
    "\t\n",
    "# Driver code to test above method \n",
    "t = fun() \n",
    "print(t.str) \n",
    "print(t.x) \n"
   ]
  },
  {
   "cell_type": "code",
   "execution_count": null,
   "metadata": {},
   "outputs": [],
   "source": []
  }
 ],
 "metadata": {
  "kernelspec": {
   "display_name": "Python 3",
   "language": "python",
   "name": "python3"
  },
  "language_info": {
   "codemirror_mode": {
    "name": "ipython",
    "version": 3
   },
   "file_extension": ".py",
   "mimetype": "text/x-python",
   "name": "python",
   "nbconvert_exporter": "python",
   "pygments_lexer": "ipython3",
   "version": "3.6.9"
  }
 },
 "nbformat": 4,
 "nbformat_minor": 2
}
